{
 "cells": [
  {
   "cell_type": "markdown",
   "metadata": {},
   "source": [
    "# Colors prediction and clusters visualization\n",
    "### Predict embeddings with trained tf-lite model and visualize embedding space in lower 3d dimension "
   ]
  },
  {
   "cell_type": "markdown",
   "metadata": {},
   "source": [
    "### 1. Import all necessary modules"
   ]
  },
  {
   "cell_type": "code",
   "execution_count": 1,
   "metadata": {},
   "outputs": [],
   "source": [
    "import numpy as np\n",
    "import tensorflow as tf\n",
    "import joblib\n",
    "from tqdm import tqdm_notebook as tqdm\n",
    "from PIL import Image\n",
    "from umap import UMAP\n",
    "import matplotlib.pyplot as plt\n",
    "from matplotlib import animation\n",
    "from mpl_toolkits import mplot3d\n",
    "%matplotlib inline"
   ]
  },
  {
   "cell_type": "markdown",
   "metadata": {},
   "source": [
    "### 2. Load dataset"
   ]
  },
  {
   "cell_type": "code",
   "execution_count": 27,
   "metadata": {},
   "outputs": [],
   "source": [
    "colors = joblib.load('dataset.dict')"
   ]
  },
  {
   "cell_type": "markdown",
   "metadata": {},
   "source": [
    "### 3. Define helper class to use tf-lite model as usual keras models"
   ]
  },
  {
   "cell_type": "code",
   "execution_count": 58,
   "metadata": {},
   "outputs": [],
   "source": [
    "class WrapperTFLite:\n",
    "    '''Class implementing a wrapper for tf-lite models so it can be used with \n",
    "    usual keras.Model's methods.\n",
    "\n",
    "    Attributes:\n",
    "        interpreter (tensorflow.lite.Interpreter obj): interpreter for the model.\n",
    "        input_details (dict): properties about an input image, including it's shape and dtype.\n",
    "        output_details (dict): properties about an output, including it's shape and dtype.\n",
    "        \n",
    "    '''\n",
    "    __slots__ = ['interpreter', 'input_details', 'output_details']\n",
    "    def __init__(self, path):\n",
    "        '''Constructor of tf-lite wrapper class. In constructor you have to define a path\n",
    "        to the tf lite model\n",
    "\n",
    "            Args:\n",
    "                path (str): path to a tensorflow lite model.\n",
    "\n",
    "        '''\n",
    "        self.interpreter = tf.lite.Interpreter(path)\n",
    "        self.interpreter.allocate_tensors()\n",
    "        # obtaining the input-output shapes and types\n",
    "        self.input_details = self.interpreter.get_input_details()\n",
    "        self.output_details = self.interpreter.get_output_details()\n",
    "\n",
    "    def predict(self, data):\n",
    "        '''Convinient method to use trained model over all data \n",
    "        (tensorflow lite models can predict only one image per time).\n",
    "\n",
    "            Args:\n",
    "                data (numpy.ndarray): array as input for the model.\n",
    "\n",
    "            Returns:\n",
    "                predictions (numpy.ndarray): model's output array.\n",
    "\n",
    "        '''\n",
    "        prediction = []\n",
    "        # use tqdm for progress bar\n",
    "        for i in tqdm(range(data.shape[0])):\n",
    "            # resize input image so it corresponds to the input shape\n",
    "            img = np.array(Image.fromarray(data[i]).resize(self.input_details[0]['shape'][1:-1], Image.BICUBIC))\n",
    "            self.interpreter.set_tensor(self.input_details[0]['index'], img.reshape(1, *img.shape)[:,:,:,::-1])\n",
    "            # running inference\n",
    "            self.interpreter.invoke()\n",
    "            # get result and append to prediction list\n",
    "            prediction.extend(self.interpreter.get_tensor(self.output_details[0]['index']))\n",
    "        return np.array(prediction)\n",
    "\n",
    "# load trained tf lite model\n",
    "network_tflite = WrapperTFLite('colors_mobilenet.tflite')"
   ]
  },
  {
   "cell_type": "code",
   "execution_count": 33,
   "metadata": {
    "scrolled": true
   },
   "outputs": [
    {
     "data": {
      "text/plain": [
       "array([  1, 128, 128,   3])"
      ]
     },
     "execution_count": 33,
     "metadata": {},
     "output_type": "execute_result"
    }
   ],
   "source": [
    "# check input dimensions for the image\n",
    "network_tflite.input_details[0]['shape']"
   ]
  },
  {
   "cell_type": "markdown",
   "metadata": {},
   "source": [
    "### 4. Predict embeddings for each image, calculate cluster's centers and standart deviations of clusters"
   ]
  },
  {
   "cell_type": "code",
   "execution_count": 59,
   "metadata": {
    "scrolled": true
   },
   "outputs": [
    {
     "name": "stderr",
     "output_type": "stream",
     "text": [
      "d:\\captcha\\synvae\\lib\\site-packages\\ipykernel_launcher.py:12: TqdmDeprecationWarning: This function will be removed in tqdm==5.0.0\n",
      "Please use `tqdm.notebook.tqdm` instead of `tqdm.tqdm_notebook`\n",
      "  if sys.path[0] == '':\n"
     ]
    },
    {
     "data": {
      "application/vnd.jupyter.widget-view+json": {
       "model_id": "e0cac9ca2ff84f9bace4958a62d1256f",
       "version_major": 2,
       "version_minor": 0
      },
      "text/plain": [
       "HBox(children=(FloatProgress(value=0.0, max=195.0), HTML(value='')))"
      ]
     },
     "metadata": {},
     "output_type": "display_data"
    },
    {
     "name": "stdout",
     "output_type": "stream",
     "text": [
      "\n"
     ]
    },
    {
     "data": {
      "application/vnd.jupyter.widget-view+json": {
       "model_id": "4b3abafc44634c32b5174fa76175c3d2",
       "version_major": 2,
       "version_minor": 0
      },
      "text/plain": [
       "HBox(children=(FloatProgress(value=0.0, max=250.0), HTML(value='')))"
      ]
     },
     "metadata": {},
     "output_type": "display_data"
    },
    {
     "name": "stdout",
     "output_type": "stream",
     "text": [
      "\n"
     ]
    },
    {
     "data": {
      "application/vnd.jupyter.widget-view+json": {
       "model_id": "e3884b9fec124e57ba0512b3ab9279cd",
       "version_major": 2,
       "version_minor": 0
      },
      "text/plain": [
       "HBox(children=(FloatProgress(value=0.0, max=261.0), HTML(value='')))"
      ]
     },
     "metadata": {},
     "output_type": "display_data"
    },
    {
     "name": "stdout",
     "output_type": "stream",
     "text": [
      "\n"
     ]
    },
    {
     "data": {
      "application/vnd.jupyter.widget-view+json": {
       "model_id": "c690e68c5daf4444b80db796090694b4",
       "version_major": 2,
       "version_minor": 0
      },
      "text/plain": [
       "HBox(children=(FloatProgress(value=0.0, max=215.0), HTML(value='')))"
      ]
     },
     "metadata": {},
     "output_type": "display_data"
    },
    {
     "name": "stdout",
     "output_type": "stream",
     "text": [
      "\n"
     ]
    },
    {
     "data": {
      "application/vnd.jupyter.widget-view+json": {
       "model_id": "4c7df214543745d7b07b466972928738",
       "version_major": 2,
       "version_minor": 0
      },
      "text/plain": [
       "HBox(children=(FloatProgress(value=0.0, max=273.0), HTML(value='')))"
      ]
     },
     "metadata": {},
     "output_type": "display_data"
    },
    {
     "name": "stdout",
     "output_type": "stream",
     "text": [
      "\n"
     ]
    },
    {
     "data": {
      "application/vnd.jupyter.widget-view+json": {
       "model_id": "40edab5a68224abd8ce939fa1916f7d6",
       "version_major": 2,
       "version_minor": 0
      },
      "text/plain": [
       "HBox(children=(FloatProgress(value=0.0, max=205.0), HTML(value='')))"
      ]
     },
     "metadata": {},
     "output_type": "display_data"
    },
    {
     "name": "stdout",
     "output_type": "stream",
     "text": [
      "\n"
     ]
    },
    {
     "data": {
      "application/vnd.jupyter.widget-view+json": {
       "model_id": "4f0a6235fd8a40db9ae731f82db8a62c",
       "version_major": 2,
       "version_minor": 0
      },
      "text/plain": [
       "HBox(children=(FloatProgress(value=0.0, max=355.0), HTML(value='')))"
      ]
     },
     "metadata": {},
     "output_type": "display_data"
    },
    {
     "name": "stdout",
     "output_type": "stream",
     "text": [
      "\n"
     ]
    },
    {
     "data": {
      "application/vnd.jupyter.widget-view+json": {
       "model_id": "c18cbb1199bc4ad996ddf54faca64726",
       "version_major": 2,
       "version_minor": 0
      },
      "text/plain": [
       "HBox(children=(FloatProgress(value=0.0, max=227.0), HTML(value='')))"
      ]
     },
     "metadata": {},
     "output_type": "display_data"
    },
    {
     "name": "stdout",
     "output_type": "stream",
     "text": [
      "\n"
     ]
    },
    {
     "data": {
      "application/vnd.jupyter.widget-view+json": {
       "model_id": "986e21fad1f84e0fb1691b5c96bd487c",
       "version_major": 2,
       "version_minor": 0
      },
      "text/plain": [
       "HBox(children=(FloatProgress(value=0.0, max=266.0), HTML(value='')))"
      ]
     },
     "metadata": {},
     "output_type": "display_data"
    },
    {
     "name": "stdout",
     "output_type": "stream",
     "text": [
      "\n"
     ]
    }
   ],
   "source": [
    "preds = []\n",
    "means = []\n",
    "stds = []\n",
    "for i in colors.keys():\n",
    "    preds.append(network_tflite.predict(colors[i]))\n",
    "    means.append(preds[-1].mean(axis=0))\n",
    "    stds.append(preds[-1].std(axis=0))"
   ]
  },
  {
   "cell_type": "markdown",
   "metadata": {},
   "source": [
    "### 5. Train a dimensionality reduction model on acquired embeddings and transform them to lower three-dimensional space"
   ]
  },
  {
   "cell_type": "code",
   "execution_count": 60,
   "metadata": {},
   "outputs": [],
   "source": [
    "transformer = UMAP(n_components=3, random_state=69).fit(np.concatenate(preds, axis=0))"
   ]
  },
  {
   "cell_type": "code",
   "execution_count": 61,
   "metadata": {},
   "outputs": [],
   "source": [
    "three_d_preds = []\n",
    "for i in colors.keys():\n",
    "    three_d_preds.append(transformer.transform(preds[i]))"
   ]
  },
  {
   "cell_type": "markdown",
   "metadata": {},
   "source": [
    "### 6. Visualize and animate 3D space of embeddings"
   ]
  },
  {
   "cell_type": "code",
   "execution_count": 157,
   "metadata": {},
   "outputs": [
    {
     "name": "stderr",
     "output_type": "stream",
     "text": [
      "d:\\captcha\\synvae\\lib\\site-packages\\ipykernel_launcher.py:12: TqdmDeprecationWarning: This function will be removed in tqdm==5.0.0\n",
      "Please use `tqdm.notebook.tqdm` instead of `tqdm.tqdm_notebook`\n",
      "  if sys.path[0] == '':\n"
     ]
    },
    {
     "data": {
      "application/vnd.jupyter.widget-view+json": {
       "model_id": "423922d27c10468a9fb08bcb37679439",
       "version_major": 2,
       "version_minor": 0
      },
      "text/plain": [
       "HBox(children=(FloatProgress(value=0.0, max=360.0), HTML(value='')))"
      ]
     },
     "metadata": {},
     "output_type": "display_data"
    },
    {
     "name": "stderr",
     "output_type": "stream",
     "text": [
      "MovieWriter imagemagick unavailable; trying to use <class 'matplotlib.animation.PillowWriter'> instead.\n"
     ]
    },
    {
     "data": {
      "image/png": "[encoded data removed]",
      "text/plain": [
       "<Figure size 720x720 with 1 Axes>"
      ]
     },
     "metadata": {},
     "output_type": "display_data"
    }
   ],
   "source": [
    "plt.style.use('dark_background')\n",
    "# set canvas size to 10x10 inches\n",
    "fig = plt.figure(figsize=(10, 10))\n",
    "ax = plt.axes(projection='3d')\n",
    "# disable planes colors\n",
    "ax.xaxis.set_pane_color((1.0, 1.0, 1.0, 0.0))\n",
    "ax.yaxis.set_pane_color((1.0, 1.0, 1.0, 0.0))\n",
    "ax.zaxis.set_pane_color((1.0, 1.0, 1.0, 0.0))\n",
    "\n",
    "# progress bar for animation rendering\n",
    "pbar = tqdm(range(360))\n",
    "\n",
    "\n",
    "def init():\n",
    "    # redraw the data with low alpha and slighty increased linewidth:\n",
    "    n_shades = 10\n",
    "    diff_linewidth = 0.35\n",
    "    alpha_value = 0.9 / n_shades\n",
    "    # colors for color clusters\n",
    "    colors = ['black', 'dodgerblue', 'green', 'darkgrey', 'darkorange', \n",
    "              'mediumpurple', 'red', 'whitesmoke', 'yellow']\n",
    "    # at first add some white halo so all cluster will be visible on black background\n",
    "    for i, c in enumerate(['whitesmoke']*len(list(three_d_preds.keys())):\n",
    "        ax.scatter3D(three_d_preds[i][:, 0], three_d_preds[i][:, 1], \n",
    "                     three_d_preds[i][:, 2], alpha=0.05, \n",
    "                     c=[c]*three_d_preds[i].shape[0], s=30)\n",
    "    # visualize clusters with corresponding colors \n",
    "    for n in range(1, n_shades+1):\n",
    "        for i, c in enumerate():\n",
    "            ax.scatter3D(three_d_preds[i][:, 0], three_d_preds[i][:, 1], \n",
    "                         three_d_preds[i][:, 2], alpha=alpha_value, \n",
    "                         c=[c]*three_d_preds[i].shape[0], s=2+(diff_linewidth*n))\n",
    "    return fig,\n",
    "\n",
    "def animate(i):\n",
    "    # progress update and rotate 3d space along azimut\n",
    "    pbar.update(1)\n",
    "    ax.view_init(elev=20., azim=i)\n",
    "    return fig,\n",
    "\n",
    "# Animate\n",
    "anim = animation.FuncAnimation(fig, animate, init_func=init,\n",
    "                               frames=360, interval=20, blit=True)\n",
    "# Save\n",
    "anim.save('color_projection.gif', writer='imagemagick')\n",
    "ax.view_init(elev=20., azim=70)"
   ]
  },
  {
   "cell_type": "markdown",
   "metadata": {},
   "source": [
    "As we can see from the above image embeddings are visualy separable. Similar colors appear to locating near each other  "
   ]
  },
  {
   "cell_type": "markdown",
   "metadata": {},
   "source": [
    "### 7. Replace embeddings with it's centers with small noisy fluctuations"
   ]
  },
  {
   "cell_type": "code",
   "execution_count": 174,
   "metadata": {},
   "outputs": [],
   "source": [
    "center_preds = []\n",
    "for i, (mean, std) in enumerate(zip(means, stds)):\n",
    "    center_preds.append(np.random.multivariate_normal(mean, np.eye(std.shape[0])*std/1e1, size=preds[i].shape[0]))"
   ]
  },
  {
   "cell_type": "markdown",
   "metadata": {},
   "source": [
    "### 8. Save results to the disk"
   ]
  },
  {
   "cell_type": "code",
   "execution_count": 176,
   "metadata": {
    "scrolled": true
   },
   "outputs": [
    {
     "data": {
      "text/plain": [
       "['embed.gz']"
      ]
     },
     "execution_count": 176,
     "metadata": {},
     "output_type": "execute_result"
    }
   ],
   "source": [
    "joblib.dump(center_preds, 'embed.gz', 3, 4)"
   ]
  }
 ],
 "metadata": {
  "kernelspec": {
   "display_name": "Python 3",
   "language": "python",
   "name": "python3"
  },
  "language_info": {
   "codemirror_mode": {
    "name": "ipython",
    "version": 3
   },
   "file_extension": ".py",
   "mimetype": "text/x-python",
   "name": "python",
   "nbconvert_exporter": "python",
   "pygments_lexer": "ipython3",
   "version": "3.6.5"
  }
 },
 "nbformat": 4,
 "nbformat_minor": 4
}
